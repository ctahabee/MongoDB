{
 "cells": [
  {
   "cell_type": "markdown",
   "metadata": {},
   "source": [
    "# Installing PyMongo"
   ]
  },
  {
   "cell_type": "code",
   "execution_count": 4,
   "metadata": {},
   "outputs": [
    {
     "name": "stdout",
     "output_type": "stream",
     "text": [
      "Collecting pymongo\n",
      "  Downloading pymongo-3.11.3-cp38-cp38-macosx_10_9_x86_64.whl (380 kB)\n",
      "\u001b[K     |████████████████████████████████| 380 kB 3.8 MB/s eta 0:00:01\n",
      "\u001b[?25hInstalling collected packages: pymongo\n",
      "Successfully installed pymongo-3.11.3\n"
     ]
    }
   ],
   "source": [
    "!pip3 install pymongo"
   ]
  },
  {
   "cell_type": "code",
   "execution_count": 5,
   "metadata": {},
   "outputs": [],
   "source": [
    "from pymongo import MongoClient"
   ]
  },
  {
   "cell_type": "markdown",
   "metadata": {},
   "source": [
    "# Connecting to MongoDB"
   ]
  },
  {
   "cell_type": "code",
   "execution_count": 6,
   "metadata": {},
   "outputs": [
    {
     "name": "stdout",
     "output_type": "stream",
     "text": [
      "Successfully connected to MongoDB!\n"
     ]
    }
   ],
   "source": [
    "myclient = MongoClient('localhost',27017) \n",
    "print(\"Successfully connected to MongoDB!\")"
   ]
  },
  {
   "cell_type": "markdown",
   "metadata": {},
   "source": [
    "# Code to create & populate the Namespace"
   ]
  },
  {
   "cell_type": "code",
   "execution_count": 14,
   "metadata": {},
   "outputs": [
    {
     "data": {
      "text/plain": [
       "<pymongo.results.InsertManyResult at 0x7fa14dc7ce80>"
      ]
     },
     "execution_count": 14,
     "metadata": {},
     "output_type": "execute_result"
    }
   ],
   "source": [
    "mydatabase = myclient[\"mydb\"]\n",
    "\n",
    "companies = mydatabase[\"companies\"]\n",
    "\n",
    "import datetime\n",
    "\n",
    "many_docs = [\n",
    "    {\"Company\":\"Apple\", \"City\":\"Cuppertino\", \"State\": \"California\", \"Country\": \"USA\", \"Description\": \"American multinational technology company that designs, develops, and sells consumer electronics, computer software, and online services\", \"Employees\": 147000, \"Founded\": datetime.datetime(1974, 1, 1, 1, 1, 1, 1), \"Annual_Revenue\": 274500000000 }, \n",
    "    {\"Company\":\"Microsoft\", \"City\":\"Redmond\", \"State\": \"Washington\", \"Country\": \"USA\", \"Description\": \"American multinational technology company that develops, manufactures, licenses, supports, and sells computer software, consumer electronics, personal computers, and related services.\", \"Employees\": 166475, \"Founded\": datetime.datetime(1975, 1, 1, 1, 1, 1, 1),  \"Annual_Revenue\": 143000000000 },\n",
    "    {\"Company\":\"Amazon\", \"City\":\"Seattle\", \"State\": \"Washington\", \"Country\": \"USA\", \"Description\": \"American multinational technology company which focuses on e-commerce, cloud computing, digital streaming, and artificial intelligence.\", \"Employees\": 1298000, \"Founded\": datetime.datetime(1994, 1, 1, 1, 1, 1, 1), \"Annual_Revenue\": 386000000000 },\n",
    "    {\"Company\":\"Google\", \"City\":\"Mountain View\", \"State\": \"California\", \"Country\": \"USA\", \"Description\": \"American multinational technology  (Links to an external site.)company that specializes in Internet-related services and products, which include online advertising technologies, a search engine, cloud computing, software, and hardware.\", \"Employees\": 135301, \"Founded\": datetime.datetime(1998, 1, 1, 1, 1, 1, 1), \"Annual_Revenue\": 187500000000 },\n",
    "    {\"Company\":\"Alibaba\", \"City\":\"Hangzhou\", \"State\": \"Zhejiang\", \"Country\": \"China\", \"Description\": \"Chinese multinational technology company specializing in e-commerce, retail, Internet, and technology.\", \"Employees\": 117600, \"Founded\": datetime.datetime(1999, 1, 1, 1, 1, 1, 1),  \"Annual_Revenue\": 72000000000 },\n",
    "    {\"Company\":\"Sony\", \"City\":\"Tokyo\", \"State\": \"Tokyo\", \"Country\": \"Japan\", \"Description\": \"Japanese multinational conglomerate that manufactures consumer and professional electronic products, is the largest video game console company and one of the most comprehensive media companies.\", \"Employees\": 114400, \"Founded\": datetime.datetime(1946, 1, 1, 1, 1, 1, 1), \"Annual_Revenue\": 76000000000 }, \n",
    "    {\"Company\":\"Samsung Electronics\", \"City\":\"Suwon\", \"State\": \"Gyeonggi\", \"Country\": \"South Korea\", \"Description\": \"South Korean multinational electronics company that is the world's largest manufacturer of mobile phones, smartphones, and memory chips.\", \"Employees\": 290000, \"Founded\": datetime.datetime(1969, 1, 1, 1, 1, 1, 1), \"Annual_Revenue\": 210000000000 }, \n",
    "    {\"Company\":\"Daimler AG\", \"City\":\"Stuttgart\", \"State\": \"Baden-Württemberg\", \"Country\": \"Germany\", \"Description\": \"German multinational automotive corporation that is one of the world's leading car and truck manufacturers.\", \"Employees\": 298655, \"Founded\": datetime.datetime(1926, 1, 1, 1, 1, 1, 1), \"Annual_Revenue\": 193000000000 },\n",
    "    {\"Company\":\"Tencent\", \"City\":\"Shenzhan\", \"State\": \"Guangdong\", \"Country\": \"China\", \"Description\": \"Chinese multinational technology conglomerate holding company. Founded in 1998, its subsidiaries globally market various Internet-related services and products, including in entertainment, artificial intelligence, and other technology.\", \"Employees\": 62885, \"Founded\": datetime.datetime(1998, 1, 1, 1, 1, 1, 1), \"Annual_Revenue\": 151000000000 },\n",
    "    {\"Company\":\"Facebook\", \"City\":\"Menlo Park\", \"State\": \"California\", \"Country\": \"USA\", \"Description\": \"is an American technology conglomerate and popular global social networking service. \", \"Employees\": 52534, \"Founded\": datetime.datetime(2004, 1, 1, 1, 1, 1, 1), \"Annual_Revenue\": 147000000000 }\n",
    "]\n",
    "\n",
    "companies.insert_many(many_docs)"
   ]
  },
  {
   "cell_type": "markdown",
   "metadata": {},
   "source": [
    "My namespace is titled ‘mydatabase’ and includes 1 collection titled ‘companies’. The ‘companies’ collection includes 10 documents with 8 key value pairs, which were initially stored in the variable 'many_docs' and ultimately inserted into the companies collection using the insert_many command. The keys include Company of type string, City of type string, State of type string, Country of type string, Description of type string, Employees of type int, Founded of type ISODate, and Annual_Revenue of type double. I have inserted Employees as type int, Founded as type datatime, and Annual_Revenue as type double to effectively run queries for the latter parts of the assignment. Notably, I have attempted this assignment on MongoDB Compass as well, in which my namespace has 9 key value pairs instead of 8, with an additional _id key of type objectid that was autogenerated."
   ]
  },
  {
   "cell_type": "markdown",
   "metadata": {},
   "source": [
    "# Code for the queries"
   ]
  },
  {
   "cell_type": "markdown",
   "metadata": {},
   "source": [
    "## Which company is the largest by number of employees and by annual revenue?"
   ]
  },
  {
   "cell_type": "code",
   "execution_count": 22,
   "metadata": {},
   "outputs": [
    {
     "data": {
      "text/plain": [
       "'Amazon'"
      ]
     },
     "execution_count": 22,
     "metadata": {},
     "output_type": "execute_result"
    }
   ],
   "source": [
    "# Employees\n",
    "mydatabase.companies.find_one(sort=[(\"Employees\", -1)])[\"Company\"]"
   ]
  },
  {
   "cell_type": "code",
   "execution_count": 19,
   "metadata": {},
   "outputs": [
    {
     "data": {
      "text/plain": [
       "'Amazon'"
      ]
     },
     "execution_count": 19,
     "metadata": {},
     "output_type": "execute_result"
    }
   ],
   "source": [
    "# Annual Revenue\n",
    "mydatabase.companies.find_one(sort=[(\"Annual_Revenue\", -1)])[\"Company\"]"
   ]
  },
  {
   "cell_type": "markdown",
   "metadata": {},
   "source": [
    "## Which one is the youngest American multinational technology company"
   ]
  },
  {
   "cell_type": "code",
   "execution_count": 57,
   "metadata": {},
   "outputs": [
    {
     "data": {
      "text/plain": [
       "'Facebook'"
      ]
     },
     "execution_count": 57,
     "metadata": {},
     "output_type": "execute_result"
    }
   ],
   "source": [
    "mydatabase.companies.find_one(sort=[(\"Founded\", -1)])[\"Company\"]"
   ]
  },
  {
   "cell_type": "markdown",
   "metadata": {},
   "source": [
    "## Which company is headquartered in Hangzhou, China?"
   ]
  },
  {
   "cell_type": "code",
   "execution_count": 69,
   "metadata": {},
   "outputs": [
    {
     "name": "stdout",
     "output_type": "stream",
     "text": [
      "The company headquartered in Hangzhou is Alibaba\n"
     ]
    }
   ],
   "source": [
    "city_search = mydatabase.companies.find({\"City\": \n",
    "                          {\"$regex\": 'Hangzhou'}})\n",
    "for companies in city_search:\n",
    "    print('The company headquartered in Hangzhou is', companies['Company'])"
   ]
  },
  {
   "cell_type": "markdown",
   "metadata": {},
   "source": [
    "## Which company manufactures cars?"
   ]
  },
  {
   "cell_type": "code",
   "execution_count": 72,
   "metadata": {},
   "outputs": [
    {
     "name": "stdout",
     "output_type": "stream",
     "text": [
      "The company that manufactures cars is Daimler AG\n"
     ]
    }
   ],
   "source": [
    "description_search_car = mydatabase.companies.find({\"Description\": {\"$regex\": 'car'}})\n",
    "for companies in description_search_car:\n",
    "    print('The company that manufactures cars is', companies['Company'])"
   ]
  },
  {
   "cell_type": "markdown",
   "metadata": {},
   "source": [
    "## Which company is the world's largest smartphone manufacturer? (hint: search description)"
   ]
  },
  {
   "cell_type": "code",
   "execution_count": 101,
   "metadata": {},
   "outputs": [
    {
     "name": "stdout",
     "output_type": "stream",
     "text": [
      "The world`s largest smartphone manufacturer is Samsung Electronics\n"
     ]
    }
   ],
   "source": [
    "description_search_phone = mydatabase.companies.find({\"Description\": {\"$regex\": 'smartphones'}})\n",
    "for companies in description_search_phone:\n",
    "    print('The world`s largest smartphone manufacturer is', companies['Company'])"
   ]
  }
 ],
 "metadata": {
  "kernelspec": {
   "display_name": "Python 3",
   "language": "python",
   "name": "python3"
  },
  "language_info": {
   "codemirror_mode": {
    "name": "ipython",
    "version": 3
   },
   "file_extension": ".py",
   "mimetype": "text/x-python",
   "name": "python",
   "nbconvert_exporter": "python",
   "pygments_lexer": "ipython3",
   "version": "3.8.5"
  }
 },
 "nbformat": 4,
 "nbformat_minor": 4
}
